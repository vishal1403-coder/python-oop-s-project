{
 "cells": [
  {
   "cell_type": "markdown",
   "id": "65c2c503-9d25-4aba-af0e-6180311820ed",
   "metadata": {},
   "source": [
    "# HOSPITAL RECORD"
   ]
  },
  {
   "cell_type": "code",
   "execution_count": null,
   "id": "f6d89a81-e691-4a9c-8739-5fafa38a706b",
   "metadata": {},
   "outputs": [],
   "source": []
  },
  {
   "cell_type": "code",
   "execution_count": 9,
   "id": "b0d39583-154b-40bf-a3ef-069292da0fb5",
   "metadata": {},
   "outputs": [
    {
     "name": "stdout",
     "output_type": "stream",
     "text": [
      "Welcome to the BLK MAX Hospital\n",
      "\n",
      "1 for add a new patient details\n",
      "2 to view the patient details\n",
      "3 to edit the details of the patient\n",
      "4 to view the details of the patients\n",
      "5 to search the details of a single person\n",
      "6 exit\n"
     ]
    },
    {
     "name": "stdin",
     "output_type": "stream",
     "text": [
      "Enter your choice 1\n"
     ]
    },
    {
     "name": "stdout",
     "output_type": "stream",
     "text": [
      "\n"
     ]
    },
    {
     "name": "stdin",
     "output_type": "stream",
     "text": [
      "Enter patient name: vishal\n",
      "Enter patient age: 26\n",
      "Enter mobile number: 8368520956\n",
      "Enter patient address: delhi\n",
      "Enter patient medical history: pain\n",
      "Enter patient_disease: fever\n",
      "Enter patient guardian: father\n",
      "Enter patient refers to: verma\n",
      "Enter Checkup charges: 1000\n"
     ]
    },
    {
     "name": "stdout",
     "output_type": "stream",
     "text": [
      "Patient ID: VISH8368-2024-07-20\n",
      "\n",
      "1 for add a new patient details\n",
      "2 to view the patient details\n",
      "3 to edit the details of the patient\n",
      "4 to view the details of the patients\n",
      "5 to search the details of a single person\n",
      "6 exit\n"
     ]
    },
    {
     "name": "stdin",
     "output_type": "stream",
     "text": [
      "Enter your choice 2\n"
     ]
    },
    {
     "name": "stdout",
     "output_type": "stream",
     "text": [
      "\n",
      "vishal Details\n",
      "Patient id : <bound method Hospital.patient_id of <__main__.Hospital object at 0x000002709BC29D00>>\n",
      "Patient name: vishal\n",
      "Patient age: 26\n",
      "Mobile number: 8368520956\n",
      "Patient address: delhi\n",
      "Patient medical history: pain\n",
      "Patient_disease: fever\n",
      "Patient guardian: father\n",
      "Refers to Dr.: verma\n",
      "Checkup charges: 1000\n",
      "\n",
      "1 for add a new patient details\n",
      "2 to view the patient details\n",
      "3 to edit the details of the patient\n",
      "4 to view the details of the patients\n",
      "5 to search the details of a single person\n",
      "6 exit\n"
     ]
    },
    {
     "name": "stdin",
     "output_type": "stream",
     "text": [
      "Enter your choice 1\n"
     ]
    },
    {
     "name": "stdout",
     "output_type": "stream",
     "text": [
      "\n"
     ]
    },
    {
     "name": "stdin",
     "output_type": "stream",
     "text": [
      "Enter patient name: nishant\n",
      "Enter patient age: 26\n",
      "Enter mobile number: 989898989898\n",
      "Enter patient address: delhi\n",
      "Enter patient medical history: nill\n",
      "Enter patient_disease: fever\n",
      "Enter patient guardian: mother\n",
      "Enter patient refers to: jaggu\n",
      "Enter Checkup charges: 500\n"
     ]
    },
    {
     "name": "stdout",
     "output_type": "stream",
     "text": [
      "Patient ID: NISH9898-2024-07-20\n",
      "\n",
      "1 for add a new patient details\n",
      "2 to view the patient details\n",
      "3 to edit the details of the patient\n",
      "4 to view the details of the patients\n",
      "5 to search the details of a single person\n",
      "6 exit\n"
     ]
    },
    {
     "name": "stdin",
     "output_type": "stream",
     "text": [
      "Enter your choice 5\n",
      "Enter customer ID:  VISH8368-2024-07-20\n"
     ]
    },
    {
     "name": "stdout",
     "output_type": "stream",
     "text": [
      "\n",
      "nishant Details\n",
      "Patient id : VISH8368-2024-07-20\n",
      "Patient name: nishant\n",
      "Patient age: 26\n",
      "Mobile number: 989898989898\n",
      "Patient address: delhi\n",
      "Patient medical history: nill\n",
      "Patient_disease: fever\n",
      "Patient guardian: mother\n",
      "Refers to Dr.: jaggu\n",
      "Checkup charges: 500\n",
      "\n",
      "1 for add a new patient details\n",
      "2 to view the patient details\n",
      "3 to edit the details of the patient\n",
      "4 to view the details of the patients\n",
      "5 to search the details of a single person\n",
      "6 exit\n"
     ]
    },
    {
     "name": "stdin",
     "output_type": "stream",
     "text": [
      "Enter your choice 6\n"
     ]
    },
    {
     "name": "stdout",
     "output_type": "stream",
     "text": [
      "Thanks for using this service.\n"
     ]
    }
   ],
   "source": [
    "from datetime import date\n",
    "class Hospital:\n",
    "    def __init__(self):\n",
    "        \n",
    "        print(\"Welcome to the BLK MAX Hospital\")\n",
    "\n",
    "        print()\n",
    "        self.__name = None\n",
    "        self.__age = None\n",
    "        self.__mobile = None\n",
    "        self.__address = None\n",
    "        self.__medical_history = None\n",
    "        self.__patient_disease = None\n",
    "        self.__guardian = None\n",
    "        self.__refers_to = None\n",
    "        self.__fees=0\n",
    "        self.patients_details = {}     # parent dictionary # child dictionay store in it. in this format customer details { nish9654-2024-07-20 { \"name\": nishant, \"age\": 26, \"contact\":9654546020  }\n",
    "        self.customer_id = None\n",
    "\n",
    "        self.date=str(date.today())\n",
    "\n",
    "#---------------------------------------------------to create patient id--------------------------------\n",
    "    \n",
    "    def patient_id(self,patient): \n",
    "        self.customer_id = patient['name'][:4].upper()+patient['mobile'][ : 4]+\"-\"+ str(date.today())        \n",
    "        # self.customer_id = patient['name'][:4].upper+patient['mobile'][ : 4]+\"-\"+ str(date.today())\n",
    "        \n",
    "\n",
    "#---------------------------------------------------to search the details of a single person by the unique-id-------\n",
    "    def customer_id_data(self):\n",
    "        cust_ID = input(\"Enter customer ID: \")\n",
    "        if cust_ID in self.patients_details.keys():  # if custid (present h) in  parent dictionary  \n",
    "            self.patient_id = cust_ID\n",
    "            self.view()\n",
    "        else:\n",
    "            print(\"Customer ID Not Found\")    \n",
    "\n",
    "\n",
    "#----------------------------------------------------take input from the user -----and save them in a empty child dict.----------\n",
    "    \n",
    "    def patient_info(self):\n",
    "        print()\n",
    "        patient={}       #child dict\n",
    "        patient['name']=input(\"Enter patient name:\")\n",
    "        patient['age']=input(\"Enter patient age:\")\n",
    "        patient['mobile']=input(\"Enter mobile number:\")\n",
    "        patient['address']=input(\"Enter patient address:\")\n",
    "        patient['medical_history']=input(\"Enter patient medical history:\")\n",
    "        patient['patient_disease']=input(\"Enter patient_disease:\")\n",
    "        patient['guardian']=input(\"Enter patient guardian:\")\n",
    "        patient['refers_to']=input(\"Enter patient refers to:\")\n",
    "        patient['fees']=input(\"Enter Checkup charges:\")\n",
    "        self.patient_id(patient)\n",
    "        self.patients_details[self.customer_id]=patient   # customer details { nish9654-2024-07-20 { \"name\": nishant, \"age\": 26, \"contact\":9654546020  }   }\n",
    "        print(\"Patient ID:\",self.customer_id)\n",
    "        print()\n",
    "\n",
    "\n",
    "#------------------------------------------------view the latest details of user at once-------------------------\n",
    "    \n",
    "    def view(self):     #isme sirf jo latest value daali hai whi show hoyegi\n",
    "        \n",
    "        print()\n",
    "        print(self.patients_details[self.customer_id]['name'],\"Details\")\n",
    "        print(\"Patient id :\",self.patient_id)\n",
    "        print(\"Patient name:\",self.patients_details[self.customer_id]['name'])\n",
    "        print(\"Patient age:\",self.patients_details[self.customer_id]['age'])\n",
    "        print(\"Mobile number:\",self.patients_details[self.customer_id]['mobile'])\n",
    "        print(\"Patient address:\",self.patients_details[self.customer_id]['address'])\n",
    "        print(\"Patient medical history:\",self.patients_details[self.customer_id]['medical_history'])\n",
    "        print(\"Patient_disease:\",self.patients_details[self.customer_id]['patient_disease'])\n",
    "        print(\"Patient guardian:\",self.patients_details[self.customer_id]['guardian'])\n",
    "        print(\"Refers to Dr.:\",self.patients_details[self.customer_id]['refers_to'])  \n",
    "        print(\"Checkup charges:\",self.patients_details[self.customer_id]['fees'])\n",
    "        print()\n",
    "\n",
    "\n",
    "#-----------------------------------update the details by user---------------------------------------------------------------------------\n",
    "    \n",
    "    def update(self):\n",
    "        patient = self.patients_details[self.customer_id]   #ye yha par kyu likha hai\n",
    "        edit=input(\"\"\"\"which detail you want to edit. \\nPatient name \\nAge \n",
    "        \\nMobile \\nAddress \\nMedical history \\nDisease\n",
    "        \\nGuardian \\nReffered Doctor  \\nFees\"\"\")\n",
    "        if edit == \"name\":\n",
    "            self.patients_details[self.customer_id]['name'] = input(\"Enter patient name:\")\n",
    "        elif edit == \"age\":\n",
    "            self.patients_details[self.customer_id]['age'] = input(\"Enter age:\")\n",
    "        elif edit == \"mobile\":\n",
    "            self.patients_details[self.customer_id]['mobile'] = input(\"Enter the mobile number:\")\n",
    "        elif edit ==\"address\":\n",
    "            self.patients_details[self.customer_id]['address'] = input(\"enter the address\")\n",
    "        elif edit == \"medical history\":\n",
    "            self.patients_details[self.customer_id]['medical_history'] = input(\"enter medical history:\")\n",
    "        elif edit == \"disease\":\n",
    "            self.patients_details[self.customer_id]['patient_disease'] = input(\"enter the disease\")\n",
    "        elif edit== \"guardian\":\n",
    "            self.patients_details[self.customer_id]['guardian'] = input(\"enter the guardian name:\")\n",
    "        elif edit == \"refers to\":\n",
    "            self.patients_details[self.customer_id]['refers_to'] = input(\"enter new doctor name:\")\n",
    "        elif edit == \"fees\":\n",
    "            self.patients_details[self.customer_id]['fees'] = input(\"enter the charges\")\n",
    "\n",
    "\n",
    "#---------------------------------view all the details at once-----------------------------------------\n",
    "    \n",
    "    def viewall(self):\n",
    "        print()\n",
    "        for patient_id, patient in self.patients_details.items():    #yha sara ek sath store ho gya hai or ek sath show hoyega\n",
    "            print(\"Patient id:\",patient_id)\n",
    "            print(\"Patient name:\",patient['name'])\n",
    "            print(\"Patient age:\",patient['age'])\n",
    "            print(\"Patient number:\",patient['mobile'])\n",
    "            print(\"Patient address:\",patient['address'])\n",
    "            print(\"Patient medical history:\",patient['medical_history'])\n",
    "            print(\"Patient_disease:\",patient['patient_disease'])\n",
    "            print(\"Patient guardian:\",patient['guardian'])\n",
    "            print(\"Refers to Dr.\",patient['refers_to'])\n",
    "            print(\"Checkup Charges:\",patient['fees'])\n",
    "            print(\"----------------------------------------------\")\n",
    "            print()\n",
    "\n",
    "\n",
    "\n",
    "                  \n",
    "vishal = Hospital()       #idhr maine ek vishal naam ke variable bnakar puri class ko usme store kar diya.\n",
    "\n",
    "\n",
    "\n",
    "\n",
    "while True:\n",
    "    print(\"1 for add a new patient details\")\n",
    "    print(\"2 to view the patient details\")\n",
    "    print(\"3 to edit the details of the patient\")\n",
    "    print(\"4 to view the details of all the patients\")\n",
    "    print(\"5 to search the details of a single person\")\n",
    "    print(\"6 exit\")\n",
    "\n",
    "    choice = int(input(\"Enter your choice\"))\n",
    "    if choice == 1:\n",
    "        vishal.patient_info()\n",
    "    elif choice == 2:\n",
    "        vishal.view()     #isme sirf jo latest value daali hai whi show hoyegi\n",
    "    elif choice == 3:\n",
    "        vishal.update()     #isme abhi bhi latest value jo daali thi sirf usi main hi edit ho rha hain.\n",
    "    elif choice == 4:\n",
    "        vishal.viewall()\n",
    "    elif choice == 5:       \n",
    "        vishal.customer_id_data()   #isme bhi gadbad hai agar search ho rha to fir uske baad latest details show kr rha hai\n",
    "    elif choice == 6:\n",
    "        print(\"Thanks for using this service.\")\n",
    "        break\n",
    "        \n",
    "    \n",
    "\n",
    "        \n",
    "        "
   ]
  },
  {
   "cell_type": "code",
   "execution_count": null,
   "id": "4cfff8f4-3bb6-48b3-991f-132e1a82dac7",
   "metadata": {},
   "outputs": [],
   "source": []
  }
 ],
 "metadata": {
  "kernelspec": {
   "display_name": "Python 3 (ipykernel)",
   "language": "python",
   "name": "python3"
  },
  "language_info": {
   "codemirror_mode": {
    "name": "ipython",
    "version": 3
   },
   "file_extension": ".py",
   "mimetype": "text/x-python",
   "name": "python",
   "nbconvert_exporter": "python",
   "pygments_lexer": "ipython3",
   "version": "3.12.4"
  }
 },
 "nbformat": 4,
 "nbformat_minor": 5
}
